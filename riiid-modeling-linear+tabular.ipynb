{
 "cells": [
  {
   "cell_type": "markdown",
   "metadata": {
    "papermill": {
     "duration": 0.027237,
     "end_time": "2020-12-12T00:34:21.989885",
     "exception": false,
     "start_time": "2020-12-12T00:34:21.962648",
     "status": "completed"
    },
    "tags": []
   },
   "source": [
    "# Setup"
   ]
  },
  {
   "cell_type": "code",
   "execution_count": 1,
   "metadata": {
    "_cell_guid": "b1076dfc-b9ad-4769-8c92-a6c4dae69d19",
    "_uuid": "8f2839f25d086af736a60e9eeb907d3b93b6e0e5",
    "execution": {
     "iopub.execute_input": "2020-12-12T00:34:22.049784Z",
     "iopub.status.busy": "2020-12-12T00:34:22.048987Z",
     "iopub.status.idle": "2020-12-12T00:34:23.202277Z",
     "shell.execute_reply": "2020-12-12T00:34:23.201555Z"
    },
    "papermill": {
     "duration": 1.185959,
     "end_time": "2020-12-12T00:34:23.202389",
     "exception": false,
     "start_time": "2020-12-12T00:34:22.016430",
     "status": "completed"
    },
    "tags": []
   },
   "outputs": [
    {
     "data": {
      "text/html": [
       "<style type='text/css'>\n",
       ".datatable table.frame { margin-bottom: 0; }\n",
       ".datatable table.frame thead { border-bottom: none; }\n",
       ".datatable table.frame tr.coltypes td {  color: #FFFFFF;  line-height: 6px;  padding: 0 0.5em;}\n",
       ".datatable .bool    { background: #DDDD99; }\n",
       ".datatable .object  { background: #565656; }\n",
       ".datatable .int     { background: #5D9E5D; }\n",
       ".datatable .float   { background: #4040CC; }\n",
       ".datatable .str     { background: #CC4040; }\n",
       ".datatable .row_index {  background: var(--jp-border-color3);  border-right: 1px solid var(--jp-border-color0);  color: var(--jp-ui-font-color3);  font-size: 9px;}\n",
       ".datatable .frame tr.coltypes .row_index {  background: var(--jp-border-color0);}\n",
       ".datatable th:nth-child(2) { padding-left: 12px; }\n",
       ".datatable .hellipsis {  color: var(--jp-cell-editor-border-color);}\n",
       ".datatable .vellipsis {  background: var(--jp-layout-color0);  color: var(--jp-cell-editor-border-color);}\n",
       ".datatable .na {  color: var(--jp-cell-editor-border-color);  font-size: 80%;}\n",
       ".datatable .footer { font-size: 9px; }\n",
       ".datatable .frame_dimensions {  background: var(--jp-border-color3);  border-top: 1px solid var(--jp-border-color0);  color: var(--jp-ui-font-color3);  display: inline-block;  opacity: 0.6;  padding: 1px 10px 1px 5px;}\n",
       ".datatable .frame thead tr.colnames {  background-image: url('data:image/png;base64,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');  background-repeat: repeat-x;  background-size: 14px;  height: 28px;}\n",
       "</style>\n"
      ],
      "text/plain": [
       "<IPython.core.display.HTML object>"
      ]
     },
     "metadata": {},
     "output_type": "display_data"
    }
   ],
   "source": [
    "import numpy as np\n",
    "import pandas as pd\n",
    "from collections import defaultdict\n",
    "import lightgbm as lgb\n",
    "from matplotlib import pyplot as plt\n",
    "import seaborn as sns\n",
    "from scipy import stats\n",
    "from sklearn.metrics import roc_auc_score\n",
    "import gc    # For garbage collector"
   ]
  },
  {
   "cell_type": "code",
   "execution_count": 2,
   "metadata": {
    "_cell_guid": "79c7e3d0-c299-4dcb-8224-4455121ee9b0",
    "_uuid": "d629ff2d2480ee46fbb7e2d37f6b5fab8052498a",
    "execution": {
     "iopub.execute_input": "2020-12-12T00:34:23.265847Z",
     "iopub.status.busy": "2020-12-12T00:34:23.265198Z",
     "iopub.status.idle": "2020-12-12T00:34:27.092282Z",
     "shell.execute_reply": "2020-12-12T00:34:27.091422Z"
    },
    "papermill": {
     "duration": 3.86096,
     "end_time": "2020-12-12T00:34:27.092406",
     "exception": false,
     "start_time": "2020-12-12T00:34:23.231446",
     "status": "completed"
    },
    "tags": []
   },
   "outputs": [
    {
     "name": "stdout",
     "output_type": "stream",
     "text": [
      "CPU times: user 2.9 s, sys: 4.09 s, total: 6.99 s\n",
      "Wall time: 3.82 s\n"
     ]
    }
   ],
   "source": [
    "%%time\n",
    "train = pd.read_parquet('../input/riiid-train-features/train_features_subset30.parquet')"
   ]
  },
  {
   "cell_type": "code",
   "execution_count": 3,
   "metadata": {
    "execution": {
     "iopub.execute_input": "2020-12-12T00:34:27.719349Z",
     "iopub.status.busy": "2020-12-12T00:34:27.243267Z",
     "iopub.status.idle": "2020-12-12T00:34:27.763730Z",
     "shell.execute_reply": "2020-12-12T00:34:27.763175Z"
    },
    "papermill": {
     "duration": 0.629515,
     "end_time": "2020-12-12T00:34:27.763843",
     "exception": false,
     "start_time": "2020-12-12T00:34:27.134328",
     "status": "completed"
    },
    "tags": []
   },
   "outputs": [],
   "source": [
    "train = train.drop(['tags'], axis=1) # dropping tags for now until i can figure out something better to do with them"
   ]
  },
  {
   "cell_type": "code",
   "execution_count": 4,
   "metadata": {
    "execution": {
     "iopub.execute_input": "2020-12-12T00:34:27.837895Z",
     "iopub.status.busy": "2020-12-12T00:34:27.834831Z",
     "iopub.status.idle": "2020-12-12T00:34:27.853105Z",
     "shell.execute_reply": "2020-12-12T00:34:27.852420Z"
    },
    "papermill": {
     "duration": 0.058267,
     "end_time": "2020-12-12T00:34:27.853214",
     "exception": false,
     "start_time": "2020-12-12T00:34:27.794947",
     "status": "completed"
    },
    "tags": []
   },
   "outputs": [
    {
     "data": {
      "text/html": [
       "<div>\n",
       "<style scoped>\n",
       "    .dataframe tbody tr th:only-of-type {\n",
       "        vertical-align: middle;\n",
       "    }\n",
       "\n",
       "    .dataframe tbody tr th {\n",
       "        vertical-align: top;\n",
       "    }\n",
       "\n",
       "    .dataframe thead th {\n",
       "        text-align: right;\n",
       "    }\n",
       "</style>\n",
       "<table border=\"1\" class=\"dataframe\">\n",
       "  <thead>\n",
       "    <tr style=\"text-align: right;\">\n",
       "      <th></th>\n",
       "      <th>user_id</th>\n",
       "      <th>content_id</th>\n",
       "      <th>task_container_id</th>\n",
       "      <th>user_answer</th>\n",
       "      <th>answered_correctly</th>\n",
       "      <th>prior_question_elapsed_time</th>\n",
       "      <th>avg_questions</th>\n",
       "      <th>avg_questions_seen</th>\n",
       "      <th>explanation_mean_user</th>\n",
       "      <th>bundle_id</th>\n",
       "      <th>correct_answer</th>\n",
       "      <th>part</th>\n",
       "      <th>quest_pct</th>\n",
       "      <th>count</th>\n",
       "      <th>user_mean_accuracy</th>\n",
       "      <th>content_mean_accuracy</th>\n",
       "      <th>user_hmean_accuracy</th>\n",
       "      <th>prior_question_had_explanation_enc</th>\n",
       "    </tr>\n",
       "  </thead>\n",
       "  <tbody>\n",
       "    <tr>\n",
       "      <th>0</th>\n",
       "      <td>124</td>\n",
       "      <td>7876</td>\n",
       "      <td>1</td>\n",
       "      <td>0</td>\n",
       "      <td>0</td>\n",
       "      <td>26000.0</td>\n",
       "      <td>1.006161</td>\n",
       "      <td>2.012810</td>\n",
       "      <td>0.033333</td>\n",
       "      <td>7876</td>\n",
       "      <td>3</td>\n",
       "      <td>1</td>\n",
       "      <td>0.418436</td>\n",
       "      <td>190170</td>\n",
       "      <td>1.000000</td>\n",
       "      <td>2.0</td>\n",
       "      <td>1.333333</td>\n",
       "      <td>0</td>\n",
       "    </tr>\n",
       "    <tr>\n",
       "      <th>1</th>\n",
       "      <td>124</td>\n",
       "      <td>175</td>\n",
       "      <td>2</td>\n",
       "      <td>2</td>\n",
       "      <td>1</td>\n",
       "      <td>29000.0</td>\n",
       "      <td>1.005353</td>\n",
       "      <td>3.018163</td>\n",
       "      <td>0.033333</td>\n",
       "      <td>175</td>\n",
       "      <td>2</td>\n",
       "      <td>1</td>\n",
       "      <td>0.359970</td>\n",
       "      <td>195861</td>\n",
       "      <td>0.500000</td>\n",
       "      <td>1.0</td>\n",
       "      <td>0.666667</td>\n",
       "      <td>0</td>\n",
       "    </tr>\n",
       "    <tr>\n",
       "      <th>2</th>\n",
       "      <td>124</td>\n",
       "      <td>1278</td>\n",
       "      <td>3</td>\n",
       "      <td>1</td>\n",
       "      <td>0</td>\n",
       "      <td>26000.0</td>\n",
       "      <td>1.004791</td>\n",
       "      <td>4.022954</td>\n",
       "      <td>0.033333</td>\n",
       "      <td>1278</td>\n",
       "      <td>3</td>\n",
       "      <td>2</td>\n",
       "      <td>0.649213</td>\n",
       "      <td>171098</td>\n",
       "      <td>0.666667</td>\n",
       "      <td>2.0</td>\n",
       "      <td>1.000000</td>\n",
       "      <td>0</td>\n",
       "    </tr>\n",
       "    <tr>\n",
       "      <th>3</th>\n",
       "      <td>124</td>\n",
       "      <td>2064</td>\n",
       "      <td>4</td>\n",
       "      <td>2</td>\n",
       "      <td>0</td>\n",
       "      <td>18000.0</td>\n",
       "      <td>1.759428</td>\n",
       "      <td>5.782382</td>\n",
       "      <td>0.033333</td>\n",
       "      <td>2063</td>\n",
       "      <td>1</td>\n",
       "      <td>3</td>\n",
       "      <td>0.636907</td>\n",
       "      <td>176043</td>\n",
       "      <td>0.500000</td>\n",
       "      <td>1.0</td>\n",
       "      <td>0.666667</td>\n",
       "      <td>0</td>\n",
       "    </tr>\n",
       "    <tr>\n",
       "      <th>4</th>\n",
       "      <td>124</td>\n",
       "      <td>2063</td>\n",
       "      <td>4</td>\n",
       "      <td>3</td>\n",
       "      <td>0</td>\n",
       "      <td>18000.0</td>\n",
       "      <td>1.759428</td>\n",
       "      <td>5.782382</td>\n",
       "      <td>0.033333</td>\n",
       "      <td>2063</td>\n",
       "      <td>0</td>\n",
       "      <td>3</td>\n",
       "      <td>0.163119</td>\n",
       "      <td>176043</td>\n",
       "      <td>0.400000</td>\n",
       "      <td>1.0</td>\n",
       "      <td>0.571429</td>\n",
       "      <td>0</td>\n",
       "    </tr>\n",
       "  </tbody>\n",
       "</table>\n",
       "</div>"
      ],
      "text/plain": [
       "   user_id  content_id  task_container_id  user_answer  answered_correctly  \\\n",
       "0      124        7876                  1            0                   0   \n",
       "1      124         175                  2            2                   1   \n",
       "2      124        1278                  3            1                   0   \n",
       "3      124        2064                  4            2                   0   \n",
       "4      124        2063                  4            3                   0   \n",
       "\n",
       "   prior_question_elapsed_time  avg_questions  avg_questions_seen  \\\n",
       "0                      26000.0       1.006161            2.012810   \n",
       "1                      29000.0       1.005353            3.018163   \n",
       "2                      26000.0       1.004791            4.022954   \n",
       "3                      18000.0       1.759428            5.782382   \n",
       "4                      18000.0       1.759428            5.782382   \n",
       "\n",
       "   explanation_mean_user  bundle_id  correct_answer  part  quest_pct   count  \\\n",
       "0               0.033333       7876               3     1   0.418436  190170   \n",
       "1               0.033333        175               2     1   0.359970  195861   \n",
       "2               0.033333       1278               3     2   0.649213  171098   \n",
       "3               0.033333       2063               1     3   0.636907  176043   \n",
       "4               0.033333       2063               0     3   0.163119  176043   \n",
       "\n",
       "   user_mean_accuracy  content_mean_accuracy  user_hmean_accuracy  \\\n",
       "0            1.000000                    2.0             1.333333   \n",
       "1            0.500000                    1.0             0.666667   \n",
       "2            0.666667                    2.0             1.000000   \n",
       "3            0.500000                    1.0             0.666667   \n",
       "4            0.400000                    1.0             0.571429   \n",
       "\n",
       "   prior_question_had_explanation_enc  \n",
       "0                                   0  \n",
       "1                                   0  \n",
       "2                                   0  \n",
       "3                                   0  \n",
       "4                                   0  "
      ]
     },
     "execution_count": 4,
     "metadata": {},
     "output_type": "execute_result"
    }
   ],
   "source": [
    "train.head()"
   ]
  },
  {
   "cell_type": "code",
   "execution_count": 5,
   "metadata": {
    "execution": {
     "iopub.execute_input": "2020-12-12T00:34:27.913717Z",
     "iopub.status.busy": "2020-12-12T00:34:27.913081Z",
     "iopub.status.idle": "2020-12-12T00:34:28.307750Z",
     "shell.execute_reply": "2020-12-12T00:34:28.307100Z"
    },
    "papermill": {
     "duration": 0.426641,
     "end_time": "2020-12-12T00:34:28.307853",
     "exception": false,
     "start_time": "2020-12-12T00:34:27.881212",
     "status": "completed"
    },
    "tags": []
   },
   "outputs": [
    {
     "data": {
      "text/plain": [
       "user_id                               0\n",
       "content_id                            0\n",
       "task_container_id                     0\n",
       "user_answer                           0\n",
       "answered_correctly                    0\n",
       "prior_question_elapsed_time           0\n",
       "avg_questions                         0\n",
       "avg_questions_seen                    0\n",
       "explanation_mean_user                 0\n",
       "bundle_id                             0\n",
       "correct_answer                        0\n",
       "part                                  0\n",
       "quest_pct                             0\n",
       "count                                 0\n",
       "user_mean_accuracy                    0\n",
       "content_mean_accuracy                 0\n",
       "user_hmean_accuracy                   0\n",
       "prior_question_had_explanation_enc    0\n",
       "dtype: int64"
      ]
     },
     "execution_count": 5,
     "metadata": {},
     "output_type": "execute_result"
    }
   ],
   "source": [
    "train.isna().sum()  # sanity check no NA values"
   ]
  },
  {
   "cell_type": "code",
   "execution_count": 6,
   "metadata": {
    "execution": {
     "iopub.execute_input": "2020-12-12T00:34:28.372387Z",
     "iopub.status.busy": "2020-12-12T00:34:28.371749Z",
     "iopub.status.idle": "2020-12-12T00:34:31.541305Z",
     "shell.execute_reply": "2020-12-12T00:34:31.541815Z"
    },
    "papermill": {
     "duration": 3.205218,
     "end_time": "2020-12-12T00:34:31.541953",
     "exception": false,
     "start_time": "2020-12-12T00:34:28.336735",
     "status": "completed"
    },
    "tags": []
   },
   "outputs": [
    {
     "name": "stdout",
     "output_type": "stream",
     "text": [
      "train_size: 10587300, valid size: 3925402\n"
     ]
    }
   ],
   "source": [
    "valid_df = train.groupby('user_id').tail(10).reset_index(drop=True)\n",
    "train_df = train[~train.index.isin(valid_df.index)].reset_index(drop=True)\n",
    "target = 'answered_correctly'\n",
    "print(f'train_size: {len(train)}, valid size: {len(valid_df)}')"
   ]
  },
  {
   "cell_type": "markdown",
   "metadata": {
    "papermill": {
     "duration": 0.02901,
     "end_time": "2020-12-12T00:34:31.601292",
     "exception": false,
     "start_time": "2020-12-12T00:34:31.572282",
     "status": "completed"
    },
    "tags": []
   },
   "source": [
    "The data frame contains a lot of features but here is a list of ones we actually want to use"
   ]
  },
  {
   "cell_type": "code",
   "execution_count": 7,
   "metadata": {
    "execution": {
     "iopub.execute_input": "2020-12-12T00:34:31.666918Z",
     "iopub.status.busy": "2020-12-12T00:34:31.666208Z",
     "iopub.status.idle": "2020-12-12T00:34:31.670572Z",
     "shell.execute_reply": "2020-12-12T00:34:31.669976Z"
    },
    "papermill": {
     "duration": 0.039849,
     "end_time": "2020-12-12T00:34:31.670698",
     "exception": false,
     "start_time": "2020-12-12T00:34:31.630849",
     "status": "completed"
    },
    "tags": []
   },
   "outputs": [],
   "source": [
    "features = [\n",
    "    'quest_pct',\n",
    "    'count',\n",
    "    'content_mean_accuracy',\n",
    "    'content_id',\n",
    "    'user_mean_accuracy',\n",
    "    'task_container_id',\n",
    "    'part',\n",
    "    'user_hmean_accuracy',\n",
    "    'prior_question_had_explanation_enc',\n",
    "    'prior_question_elapsed_time',\n",
    "    'avg_questions',\n",
    "    'avg_questions_seen',\n",
    "    'explanation_mean_user',\n",
    "]"
   ]
  },
  {
   "cell_type": "markdown",
   "metadata": {
    "papermill": {
     "duration": 0.029266,
     "end_time": "2020-12-12T00:34:31.729381",
     "exception": false,
     "start_time": "2020-12-12T00:34:31.700115",
     "status": "completed"
    },
    "tags": []
   },
   "source": [
    "# Linear model"
   ]
  },
  {
   "cell_type": "code",
   "execution_count": 8,
   "metadata": {
    "execution": {
     "iopub.execute_input": "2020-12-12T00:34:31.793644Z",
     "iopub.status.busy": "2020-12-12T00:34:31.792964Z",
     "iopub.status.idle": "2020-12-12T00:34:32.628302Z",
     "shell.execute_reply": "2020-12-12T00:34:32.627733Z"
    },
    "papermill": {
     "duration": 0.869546,
     "end_time": "2020-12-12T00:34:32.628414",
     "exception": false,
     "start_time": "2020-12-12T00:34:31.758868",
     "status": "completed"
    },
    "tags": []
   },
   "outputs": [],
   "source": [
    "import statsmodels.api as sm"
   ]
  },
  {
   "cell_type": "code",
   "execution_count": 9,
   "metadata": {
    "execution": {
     "iopub.execute_input": "2020-12-12T00:34:32.780042Z",
     "iopub.status.busy": "2020-12-12T00:34:32.759460Z",
     "iopub.status.idle": "2020-12-12T00:34:39.937334Z",
     "shell.execute_reply": "2020-12-12T00:34:39.936624Z"
    },
    "papermill": {
     "duration": 7.278719,
     "end_time": "2020-12-12T00:34:39.937465",
     "exception": false,
     "start_time": "2020-12-12T00:34:32.658746",
     "status": "completed"
    },
    "tags": []
   },
   "outputs": [
    {
     "name": "stdout",
     "output_type": "stream",
     "text": [
      "CPU times: user 9.09 s, sys: 1.99 s, total: 11.1 s\n",
      "Wall time: 7.24 s\n"
     ]
    },
    {
     "data": {
      "text/plain": [
       "0.7286155138310852"
      ]
     },
     "execution_count": 9,
     "metadata": {},
     "output_type": "execute_result"
    }
   ],
   "source": [
    "%%time\n",
    "model = sm.OLS(train_df['answered_correctly'], train_df[features])\n",
    "lin_model = model.fit()\n",
    "roc_auc_score(valid_df['answered_correctly'], lin_model.predict(valid_df[features]))"
   ]
  },
  {
   "cell_type": "code",
   "execution_count": 10,
   "metadata": {
    "execution": {
     "iopub.execute_input": "2020-12-12T00:34:40.006169Z",
     "iopub.status.busy": "2020-12-12T00:34:40.005485Z",
     "iopub.status.idle": "2020-12-12T00:34:40.010817Z",
     "shell.execute_reply": "2020-12-12T00:34:40.009886Z"
    },
    "papermill": {
     "duration": 0.041779,
     "end_time": "2020-12-12T00:34:40.010959",
     "exception": false,
     "start_time": "2020-12-12T00:34:39.969180",
     "status": "completed"
    },
    "tags": []
   },
   "outputs": [],
   "source": [
    "del lin_model"
   ]
  },
  {
   "cell_type": "markdown",
   "metadata": {
    "papermill": {
     "duration": 0.046924,
     "end_time": "2020-12-12T00:34:40.105774",
     "exception": false,
     "start_time": "2020-12-12T00:34:40.058850",
     "status": "completed"
    },
    "tags": []
   },
   "source": [
    "# Neural models"
   ]
  },
  {
   "cell_type": "code",
   "execution_count": 11,
   "metadata": {
    "execution": {
     "iopub.execute_input": "2020-12-12T00:34:40.205328Z",
     "iopub.status.busy": "2020-12-12T00:34:40.204519Z",
     "iopub.status.idle": "2020-12-12T00:34:41.756837Z",
     "shell.execute_reply": "2020-12-12T00:34:41.756109Z"
    },
    "papermill": {
     "duration": 1.604118,
     "end_time": "2020-12-12T00:34:41.756950",
     "exception": false,
     "start_time": "2020-12-12T00:34:40.152832",
     "status": "completed"
    },
    "tags": []
   },
   "outputs": [],
   "source": [
    "import fastai\n",
    "from fastai.tabular.all import *"
   ]
  },
  {
   "cell_type": "code",
   "execution_count": 12,
   "metadata": {
    "execution": {
     "iopub.execute_input": "2020-12-12T00:34:41.826831Z",
     "iopub.status.busy": "2020-12-12T00:34:41.825954Z",
     "iopub.status.idle": "2020-12-12T00:34:41.829503Z",
     "shell.execute_reply": "2020-12-12T00:34:41.828912Z"
    },
    "papermill": {
     "duration": 0.040053,
     "end_time": "2020-12-12T00:34:41.829667",
     "exception": false,
     "start_time": "2020-12-12T00:34:41.789614",
     "status": "completed"
    },
    "tags": []
   },
   "outputs": [],
   "source": [
    "EPOCHS=5\n",
    "BATCH_SIZE=4096"
   ]
  },
  {
   "cell_type": "code",
   "execution_count": 13,
   "metadata": {
    "execution": {
     "iopub.execute_input": "2020-12-12T00:34:41.900914Z",
     "iopub.status.busy": "2020-12-12T00:34:41.900205Z",
     "iopub.status.idle": "2020-12-12T00:34:41.912399Z",
     "shell.execute_reply": "2020-12-12T00:34:41.911813Z"
    },
    "papermill": {
     "duration": 0.05051,
     "end_time": "2020-12-12T00:34:41.912531",
     "exception": false,
     "start_time": "2020-12-12T00:34:41.862021",
     "status": "completed"
    },
    "tags": []
   },
   "outputs": [],
   "source": [
    "train_df['answered_correctly']=train_df['answered_correctly'].astype('float32')"
   ]
  },
  {
   "cell_type": "code",
   "execution_count": 14,
   "metadata": {
    "execution": {
     "iopub.execute_input": "2020-12-12T00:34:41.981949Z",
     "iopub.status.busy": "2020-12-12T00:34:41.981011Z",
     "iopub.status.idle": "2020-12-12T00:34:41.984470Z",
     "shell.execute_reply": "2020-12-12T00:34:41.983890Z"
    },
    "papermill": {
     "duration": 0.039594,
     "end_time": "2020-12-12T00:34:41.984602",
     "exception": false,
     "start_time": "2020-12-12T00:34:41.945008",
     "status": "completed"
    },
    "tags": []
   },
   "outputs": [],
   "source": [
    "# %%time\n",
    "# cat_features = ['prior_question_had_explanation_enc', 'part']\n",
    "# tabular_ds = TabularDataLoaders.from_df(train_df, \n",
    "#     procs=[Categorify, FillMissing, Normalize],\n",
    "#     cat_names=cat_features, \n",
    "#     cont_names=[x for x in features if x not in cat_features],\n",
    "#     y_names='answered_correctly', valid_idx=valid_df.index, bs=BATCH_SIZE)\n"
   ]
  },
  {
   "cell_type": "code",
   "execution_count": 15,
   "metadata": {
    "execution": {
     "iopub.execute_input": "2020-12-12T00:34:42.054834Z",
     "iopub.status.busy": "2020-12-12T00:34:42.054101Z",
     "iopub.status.idle": "2020-12-12T00:34:42.057695Z",
     "shell.execute_reply": "2020-12-12T00:34:42.057185Z"
    },
    "papermill": {
     "duration": 0.040677,
     "end_time": "2020-12-12T00:34:42.057798",
     "exception": false,
     "start_time": "2020-12-12T00:34:42.017121",
     "status": "completed"
    },
    "tags": []
   },
   "outputs": [],
   "source": [
    "# def my_auc(inp, targ):\n",
    "#     \"Simple wrapper around scikit's roc_auc_score function for regression problems\"\n",
    "#     inp,targ = flatten_check(inp,targ)\n",
    "#     return roc_auc_score(targ.cpu().numpy(), inp.cpu().numpy())"
   ]
  },
  {
   "cell_type": "code",
   "execution_count": 16,
   "metadata": {
    "execution": {
     "iopub.execute_input": "2020-12-12T00:34:42.127928Z",
     "iopub.status.busy": "2020-12-12T00:34:42.127004Z",
     "iopub.status.idle": "2020-12-12T00:34:42.130994Z",
     "shell.execute_reply": "2020-12-12T00:34:42.130206Z"
    },
    "papermill": {
     "duration": 0.040916,
     "end_time": "2020-12-12T00:34:42.131114",
     "exception": false,
     "start_time": "2020-12-12T00:34:42.090198",
     "status": "completed"
    },
    "tags": []
   },
   "outputs": [],
   "source": [
    "# def bce(inp,targ):\n",
    "#     \"Binary cross entropy\"\n",
    "#     inp,targ = flatten_check(inp,targ)\n",
    "#     loss = F.binary_cross_entropy(inp, targ)\n",
    "#     return loss"
   ]
  },
  {
   "cell_type": "code",
   "execution_count": 17,
   "metadata": {
    "execution": {
     "iopub.execute_input": "2020-12-12T00:34:42.203100Z",
     "iopub.status.busy": "2020-12-12T00:34:42.202216Z",
     "iopub.status.idle": "2020-12-12T00:34:42.206556Z",
     "shell.execute_reply": "2020-12-12T00:34:42.205927Z"
    },
    "papermill": {
     "duration": 0.042296,
     "end_time": "2020-12-12T00:34:42.206686",
     "exception": false,
     "start_time": "2020-12-12T00:34:42.164390",
     "status": "completed"
    },
    "tags": []
   },
   "outputs": [],
   "source": [
    "# learn = tabular_learner(tabular_ds, layers=[200,100], metrics=my_auc)"
   ]
  },
  {
   "cell_type": "code",
   "execution_count": 18,
   "metadata": {
    "execution": {
     "iopub.execute_input": "2020-12-12T00:34:42.277528Z",
     "iopub.status.busy": "2020-12-12T00:34:42.276644Z",
     "iopub.status.idle": "2020-12-12T00:34:42.281433Z",
     "shell.execute_reply": "2020-12-12T00:34:42.280723Z"
    },
    "papermill": {
     "duration": 0.042261,
     "end_time": "2020-12-12T00:34:42.281598",
     "exception": false,
     "start_time": "2020-12-12T00:34:42.239337",
     "status": "completed"
    },
    "tags": []
   },
   "outputs": [],
   "source": [
    "# learn.model.layers.add_module('sigmoid', nn.Sigmoid())\n",
    "# learn.loss_func = bce"
   ]
  },
  {
   "cell_type": "code",
   "execution_count": 19,
   "metadata": {
    "execution": {
     "iopub.execute_input": "2020-12-12T00:34:42.385073Z",
     "iopub.status.busy": "2020-12-12T00:34:42.384107Z",
     "iopub.status.idle": "2020-12-12T00:34:42.388423Z",
     "shell.execute_reply": "2020-12-12T00:34:42.387782Z"
    },
    "papermill": {
     "duration": 0.057716,
     "end_time": "2020-12-12T00:34:42.388535",
     "exception": false,
     "start_time": "2020-12-12T00:34:42.330819",
     "status": "completed"
    },
    "tags": []
   },
   "outputs": [],
   "source": [
    "# learn.lr_find()"
   ]
  },
  {
   "cell_type": "code",
   "execution_count": 20,
   "metadata": {
    "execution": {
     "iopub.execute_input": "2020-12-12T00:34:42.460930Z",
     "iopub.status.busy": "2020-12-12T00:34:42.459990Z",
     "iopub.status.idle": "2020-12-12T00:34:42.462800Z",
     "shell.execute_reply": "2020-12-12T00:34:42.463419Z"
    },
    "papermill": {
     "duration": 0.041581,
     "end_time": "2020-12-12T00:34:42.463613",
     "exception": false,
     "start_time": "2020-12-12T00:34:42.422032",
     "status": "completed"
    },
    "tags": []
   },
   "outputs": [],
   "source": [
    "# %%time\n",
    "\n",
    "# learn.fit_one_cycle(3) "
   ]
  },
  {
   "cell_type": "code",
   "execution_count": 21,
   "metadata": {
    "execution": {
     "iopub.execute_input": "2020-12-12T00:34:42.568012Z",
     "iopub.status.busy": "2020-12-12T00:34:42.567327Z",
     "iopub.status.idle": "2020-12-12T00:34:42.571411Z",
     "shell.execute_reply": "2020-12-12T00:34:42.570878Z"
    },
    "papermill": {
     "duration": 0.058209,
     "end_time": "2020-12-12T00:34:42.571516",
     "exception": false,
     "start_time": "2020-12-12T00:34:42.513307",
     "status": "completed"
    },
    "tags": []
   },
   "outputs": [],
   "source": [
    "# def predict_batch(self, df):\n",
    "#     dl = self.dls.test_dl(df)\n",
    "#     dl.dataset.conts = dl.dataset.conts.astype(np.float32)\n",
    "#     inp,preds,_,dec_preds = self.get_preds(dl=dl, with_input=True, with_decoded=True)\n",
    "#     return preds.numpy()\n",
    "\n",
    "# setattr(learn, 'predict_batch', predict_batch)"
   ]
  },
  {
   "cell_type": "markdown",
   "metadata": {
    "papermill": {
     "duration": 0.032691,
     "end_time": "2020-12-12T00:34:42.637455",
     "exception": false,
     "start_time": "2020-12-12T00:34:42.604764",
     "status": "completed"
    },
    "tags": []
   },
   "source": [
    "# LightGBM"
   ]
  },
  {
   "cell_type": "code",
   "execution_count": 22,
   "metadata": {
    "execution": {
     "iopub.execute_input": "2020-12-12T00:34:42.707363Z",
     "iopub.status.busy": "2020-12-12T00:34:42.706747Z",
     "iopub.status.idle": "2020-12-12T00:34:42.710561Z",
     "shell.execute_reply": "2020-12-12T00:34:42.709982Z"
    },
    "papermill": {
     "duration": 0.040685,
     "end_time": "2020-12-12T00:34:42.710696",
     "exception": false,
     "start_time": "2020-12-12T00:34:42.670011",
     "status": "completed"
    },
    "tags": []
   },
   "outputs": [],
   "source": [
    "# params = {\n",
    "#     'objective': 'binary',\n",
    "#     'seed': 42,\n",
    "#     'metric': 'auc',\n",
    "#     'learning_rate': 0.05,\n",
    "#     'max_bin': 800,\n",
    "#     'num_leaves': 80\n",
    "# }"
   ]
  },
  {
   "cell_type": "code",
   "execution_count": 23,
   "metadata": {
    "execution": {
     "iopub.execute_input": "2020-12-12T00:34:42.782283Z",
     "iopub.status.busy": "2020-12-12T00:34:42.781442Z",
     "iopub.status.idle": "2020-12-12T00:34:42.784884Z",
     "shell.execute_reply": "2020-12-12T00:34:42.785408Z"
    },
    "papermill": {
     "duration": 0.041302,
     "end_time": "2020-12-12T00:34:42.785553",
     "exception": false,
     "start_time": "2020-12-12T00:34:42.744251",
     "status": "completed"
    },
    "tags": []
   },
   "outputs": [],
   "source": [
    "# tr_data = lgb.Dataset(train_df[features], label=train_df['answered_correctly'])\n",
    "# va_data = lgb.Dataset(valid_df[features], label=valid_df['answered_correctly'])"
   ]
  },
  {
   "cell_type": "code",
   "execution_count": 24,
   "metadata": {
    "execution": {
     "iopub.execute_input": "2020-12-12T00:34:42.859339Z",
     "iopub.status.busy": "2020-12-12T00:34:42.858453Z",
     "iopub.status.idle": "2020-12-12T00:34:42.863185Z",
     "shell.execute_reply": "2020-12-12T00:34:42.862674Z"
    },
    "papermill": {
     "duration": 0.044142,
     "end_time": "2020-12-12T00:34:42.863292",
     "exception": false,
     "start_time": "2020-12-12T00:34:42.819150",
     "status": "completed"
    },
    "tags": []
   },
   "outputs": [],
   "source": [
    "# model = lgb.train(\n",
    "#     params, \n",
    "#     tr_data, \n",
    "#     num_boost_round=10000,\n",
    "#     valid_sets=[tr_data, va_data], \n",
    "#     early_stopping_rounds=50,\n",
    "#     verbose_eval=50\n",
    "# )\n",
    "\n",
    "# model.save_model(f'model.txt')\n",
    "# lgb.plot_importance(model, importance_type='gain')\n",
    "# plt.show()"
   ]
  },
  {
   "cell_type": "code",
   "execution_count": 25,
   "metadata": {
    "execution": {
     "iopub.execute_input": "2020-12-12T00:34:42.936459Z",
     "iopub.status.busy": "2020-12-12T00:34:42.935871Z",
     "iopub.status.idle": "2020-12-12T00:34:45.405448Z",
     "shell.execute_reply": "2020-12-12T00:34:45.407626Z"
    },
    "papermill": {
     "duration": 2.510595,
     "end_time": "2020-12-12T00:34:45.407811",
     "exception": false,
     "start_time": "2020-12-12T00:34:42.897216",
     "status": "completed"
    },
    "tags": []
   },
   "outputs": [],
   "source": [
    "model = lgb.Booster(model_file='../input/riiid-train-features/model.txt')"
   ]
  },
  {
   "cell_type": "markdown",
   "metadata": {
    "papermill": {
     "duration": 0.037686,
     "end_time": "2020-12-12T00:34:45.480121",
     "exception": false,
     "start_time": "2020-12-12T00:34:45.442435",
     "status": "completed"
    },
    "tags": []
   },
   "source": [
    "# Inference"
   ]
  },
  {
   "cell_type": "markdown",
   "metadata": {
    "papermill": {
     "duration": 0.032109,
     "end_time": "2020-12-12T00:34:45.544981",
     "exception": false,
     "start_time": "2020-12-12T00:34:45.512872",
     "status": "completed"
    },
    "tags": []
   },
   "source": [
    "here we read back the train data frame so we can generate features on the test set batches"
   ]
  },
  {
   "cell_type": "code",
   "execution_count": 26,
   "metadata": {
    "execution": {
     "iopub.execute_input": "2020-12-12T00:34:45.617740Z",
     "iopub.status.busy": "2020-12-12T00:34:45.617088Z",
     "iopub.status.idle": "2020-12-12T00:34:47.207897Z",
     "shell.execute_reply": "2020-12-12T00:34:47.207070Z"
    },
    "papermill": {
     "duration": 1.630716,
     "end_time": "2020-12-12T00:34:47.208028",
     "exception": false,
     "start_time": "2020-12-12T00:34:45.577312",
     "status": "completed"
    },
    "tags": []
   },
   "outputs": [
    {
     "name": "stdout",
     "output_type": "stream",
     "text": [
      "CPU times: user 3.02 s, sys: 1.12 s, total: 4.13 s\n",
      "Wall time: 1.59 s\n"
     ]
    }
   ],
   "source": [
    "%%time\n",
    "del train_df\n",
    "del valid_df\n",
    "train = pd.read_parquet('../input/riiid-train-features/train_features_subset30.parquet')"
   ]
  },
  {
   "cell_type": "code",
   "execution_count": 27,
   "metadata": {
    "execution": {
     "iopub.execute_input": "2020-12-12T00:34:47.316146Z",
     "iopub.status.busy": "2020-12-12T00:34:47.315440Z",
     "iopub.status.idle": "2020-12-12T00:34:48.074543Z",
     "shell.execute_reply": "2020-12-12T00:34:48.073887Z"
    },
    "papermill": {
     "duration": 0.816049,
     "end_time": "2020-12-12T00:34:48.074699",
     "exception": false,
     "start_time": "2020-12-12T00:34:47.258650",
     "status": "completed"
    },
    "tags": []
   },
   "outputs": [],
   "source": [
    "user_agg = train.groupby('user_id')[target].agg(['sum', 'count'])\n",
    "content_agg = train.groupby('content_id')[target].agg(['sum', 'count'])"
   ]
  },
  {
   "cell_type": "markdown",
   "metadata": {
    "papermill": {
     "duration": 0.035944,
     "end_time": "2020-12-12T00:34:48.154402",
     "exception": false,
     "start_time": "2020-12-12T00:34:48.118458",
     "status": "completed"
    },
    "tags": []
   },
   "source": [
    "isolating the question features we generated"
   ]
  },
  {
   "cell_type": "code",
   "execution_count": 28,
   "metadata": {
    "execution": {
     "iopub.execute_input": "2020-12-12T00:34:48.457746Z",
     "iopub.status.busy": "2020-12-12T00:34:48.306668Z",
     "iopub.status.idle": "2020-12-12T00:34:56.047760Z",
     "shell.execute_reply": "2020-12-12T00:34:56.047095Z"
    },
    "papermill": {
     "duration": 7.856448,
     "end_time": "2020-12-12T00:34:56.047866",
     "exception": false,
     "start_time": "2020-12-12T00:34:48.191418",
     "status": "completed"
    },
    "tags": []
   },
   "outputs": [],
   "source": [
    "question_features_df = train[['content_id', 'quest_pct', 'count', 'part']].groupby('content_id').agg(['unique'])\n",
    "question_features_df.columns = ['quest_pct', 'count', 'part']\n",
    "question_features_df = question_features_df.astype({'quest_pct': np.float64, 'count': np.int32, 'part': np.int8})"
   ]
  },
  {
   "cell_type": "markdown",
   "metadata": {
    "papermill": {
     "duration": 0.033351,
     "end_time": "2020-12-12T00:34:56.114660",
     "exception": false,
     "start_time": "2020-12-12T00:34:56.081309",
     "status": "completed"
    },
    "tags": []
   },
   "source": [
    "isolating the user features we generated"
   ]
  },
  {
   "cell_type": "code",
   "execution_count": 29,
   "metadata": {
    "execution": {
     "iopub.execute_input": "2020-12-12T00:34:56.252541Z",
     "iopub.status.busy": "2020-12-12T00:34:56.196444Z",
     "iopub.status.idle": "2020-12-12T00:34:57.072149Z",
     "shell.execute_reply": "2020-12-12T00:34:57.071625Z"
    },
    "papermill": {
     "duration": 0.924477,
     "end_time": "2020-12-12T00:34:57.072257",
     "exception": false,
     "start_time": "2020-12-12T00:34:56.147780",
     "status": "completed"
    },
    "tags": []
   },
   "outputs": [],
   "source": [
    "user_features_df = train[['user_id', 'avg_questions', 'avg_questions_seen', 'explanation_mean_user']].groupby('user_id').agg(['max'])\n",
    "user_features_df.columns = ['avg_questions', 'avg_questions_seen', 'explanation_mean_user']"
   ]
  },
  {
   "cell_type": "code",
   "execution_count": 30,
   "metadata": {
    "execution": {
     "iopub.execute_input": "2020-12-12T00:34:57.275976Z",
     "iopub.status.busy": "2020-12-12T00:34:57.275084Z",
     "iopub.status.idle": "2020-12-12T00:34:57.280709Z",
     "shell.execute_reply": "2020-12-12T00:34:57.280089Z"
    },
    "papermill": {
     "duration": 0.174799,
     "end_time": "2020-12-12T00:34:57.280816",
     "exception": false,
     "start_time": "2020-12-12T00:34:57.106017",
     "status": "completed"
    },
    "tags": []
   },
   "outputs": [
    {
     "data": {
      "text/plain": [
       "40"
      ]
     },
     "execution_count": 30,
     "metadata": {},
     "output_type": "execute_result"
    }
   ],
   "source": [
    "# memory optimization\n",
    "del train\n",
    "gc.collect()"
   ]
  },
  {
   "cell_type": "code",
   "execution_count": 31,
   "metadata": {
    "execution": {
     "iopub.execute_input": "2020-12-12T00:34:57.367358Z",
     "iopub.status.busy": "2020-12-12T00:34:57.366282Z",
     "iopub.status.idle": "2020-12-12T00:34:57.371375Z",
     "shell.execute_reply": "2020-12-12T00:34:57.370848Z"
    },
    "papermill": {
     "duration": 0.045347,
     "end_time": "2020-12-12T00:34:57.371480",
     "exception": false,
     "start_time": "2020-12-12T00:34:57.326133",
     "status": "completed"
    },
    "tags": []
   },
   "outputs": [
    {
     "data": {
      "text/plain": [
       "['quest_pct',\n",
       " 'count',\n",
       " 'content_mean_accuracy',\n",
       " 'content_id',\n",
       " 'user_mean_accuracy',\n",
       " 'task_container_id',\n",
       " 'part',\n",
       " 'user_hmean_accuracy',\n",
       " 'prior_question_had_explanation_enc',\n",
       " 'prior_question_elapsed_time',\n",
       " 'avg_questions',\n",
       " 'avg_questions_seen',\n",
       " 'explanation_mean_user']"
      ]
     },
     "execution_count": 31,
     "metadata": {},
     "output_type": "execute_result"
    }
   ],
   "source": [
    "features"
   ]
  },
  {
   "cell_type": "markdown",
   "metadata": {
    "papermill": {
     "duration": 0.035474,
     "end_time": "2020-12-12T00:34:57.442876",
     "exception": false,
     "start_time": "2020-12-12T00:34:57.407402",
     "status": "completed"
    },
    "tags": []
   },
   "source": [
    "Here we create dictionaries for each user and content to serve as a state.\n",
    "We later update the state during inference so we can update user and content performance."
   ]
  },
  {
   "cell_type": "code",
   "execution_count": 32,
   "metadata": {
    "execution": {
     "iopub.execute_input": "2020-12-12T00:34:57.669152Z",
     "iopub.status.busy": "2020-12-12T00:34:57.520863Z",
     "iopub.status.idle": "2020-12-12T00:34:57.835068Z",
     "shell.execute_reply": "2020-12-12T00:34:57.834505Z"
    },
    "papermill": {
     "duration": 0.356628,
     "end_time": "2020-12-12T00:34:57.835179",
     "exception": false,
     "start_time": "2020-12-12T00:34:57.478551",
     "status": "completed"
    },
    "tags": []
   },
   "outputs": [],
   "source": [
    "user_sum_dict = user_agg['sum'].astype('int16').to_dict(defaultdict(int))\n",
    "user_count_dict = user_agg['count'].astype('int16').to_dict(defaultdict(int))\n",
    "content_sum_dict = content_agg['sum'].astype('int32').to_dict(defaultdict(int))\n",
    "content_count_dict = content_agg['count'].astype('int32').to_dict(defaultdict(int))"
   ]
  },
  {
   "cell_type": "code",
   "execution_count": 33,
   "metadata": {
    "execution": {
     "iopub.execute_input": "2020-12-12T00:34:57.911280Z",
     "iopub.status.busy": "2020-12-12T00:34:57.910411Z",
     "iopub.status.idle": "2020-12-12T00:34:57.942340Z",
     "shell.execute_reply": "2020-12-12T00:34:57.941469Z"
    },
    "papermill": {
     "duration": 0.071683,
     "end_time": "2020-12-12T00:34:57.942470",
     "exception": false,
     "start_time": "2020-12-12T00:34:57.870787",
     "status": "completed"
    },
    "tags": []
   },
   "outputs": [],
   "source": [
    "import riiideducation\n",
    "env = riiideducation.make_env()\n",
    "iter_test = env.iter_test()\n",
    "prior_test_df = None"
   ]
  },
  {
   "cell_type": "markdown",
   "metadata": {
    "papermill": {
     "duration": 0.052693,
     "end_time": "2020-12-12T00:34:58.049996",
     "exception": false,
     "start_time": "2020-12-12T00:34:57.997303",
     "status": "completed"
    },
    "tags": []
   },
   "source": [
    "inference loop"
   ]
  },
  {
   "cell_type": "code",
   "execution_count": 34,
   "metadata": {
    "execution": {
     "iopub.execute_input": "2020-12-12T00:34:58.180840Z",
     "iopub.status.busy": "2020-12-12T00:34:58.179951Z",
     "iopub.status.idle": "2020-12-12T00:34:58.789141Z",
     "shell.execute_reply": "2020-12-12T00:34:58.789629Z"
    },
    "papermill": {
     "duration": 0.685087,
     "end_time": "2020-12-12T00:34:58.789771",
     "exception": false,
     "start_time": "2020-12-12T00:34:58.104684",
     "status": "completed"
    },
    "tags": []
   },
   "outputs": [
    {
     "name": "stderr",
     "output_type": "stream",
     "text": [
      "/opt/conda/lib/python3.7/site-packages/ipykernel_launcher.py:36: RuntimeWarning: invalid value encountered in true_divide\n"
     ]
    },
    {
     "name": "stdout",
     "output_type": "stream",
     "text": [
      "CPU times: user 968 ms, sys: 25 ms, total: 993 ms\n",
      "Wall time: 608 ms\n"
     ]
    }
   ],
   "source": [
    "%%time\n",
    "\n",
    "for (test_df, sample_prediction_df) in iter_test:  # loop through the environment test generator\n",
    "    if prior_test_df is not None:  # here we update the state\n",
    "        prior_test_df['answered_correctly'] = eval(test_df['prior_group_answers_correct'].iloc[0])\n",
    "        prior_test_df = prior_test_df[prior_test_df['answered_correctly'] != -1].reset_index(drop=True)\n",
    "        \n",
    "        user_ids = prior_test_df['user_id'].values\n",
    "        content_ids = prior_test_df['content_id'].values\n",
    "        targets = prior_test_df['answered_correctly'].values\n",
    "\n",
    "        # update state's values for user and content sum and counts\n",
    "        for user_id, content_id, answered_correctly in zip(user_ids, content_ids, targets):\n",
    "            user_sum_dict[user_id] += answered_correctly\n",
    "            user_count_dict[user_id] += 1\n",
    "            content_sum_dict[content_id] += answered_correctly\n",
    "            content_count_dict[content_id] += 1\n",
    "\n",
    "    prior_test_df = test_df.copy()\n",
    "    \n",
    "    test_df = test_df[test_df['content_type_id'] == 0].reset_index(drop=True)  # ignore lecture content\n",
    "    test_df = pd.merge(test_df, question_features_df, on='content_id', how='left')  # merge question features\n",
    "    test_df = pd.merge(test_df, user_features_df, on='user_id', how='left')  # merge user features\n",
    "    test_df['prior_question_had_explanation_enc'] = test_df['prior_question_had_explanation'].fillna(False).astype('int8')    \n",
    "    \n",
    "    user_sum = np.zeros(len(test_df), dtype=np.int16)\n",
    "    user_count = np.zeros(len(test_df), dtype=np.int16)\n",
    "    content_sum = np.zeros(len(test_df), dtype=np.int32)\n",
    "    content_count = np.zeros(len(test_df), dtype=np.int32)\n",
    "    \n",
    "    for i, (user_id, content_id) in enumerate(zip(test_df['user_id'].values, test_df['content_id'].values)):\n",
    "        user_sum[i] = user_sum_dict[user_id]\n",
    "        user_count[i] = user_count_dict[user_id]\n",
    "        content_sum[i] = content_sum_dict[content_id]\n",
    "        content_count[i] = content_count_dict[content_id]\n",
    "\n",
    "    # adding features that rely on the updated state counts\n",
    "    test_df['user_mean_accuracy'] = user_sum / user_count\n",
    "#     test_df['content_count'] = content_count\n",
    "    test_df['content_mean_accuracy'] = content_sum / content_count\n",
    "    test_df['user_hmean_accuracy'] =  2 * (\n",
    "        (test_df['user_mean_accuracy'] * test_df['content_mean_accuracy']) /\n",
    "        (test_df['user_mean_accuracy'] + test_df['content_mean_accuracy'])\n",
    "    )\n",
    "       \n",
    "    # inference\n",
    "    test_df['answered_correctly'] = model.predict(test_df[features])\n",
    "    env.predict(test_df[['row_id', 'answered_correctly']])"
   ]
  }
 ],
 "metadata": {
  "kernelspec": {
   "display_name": "Python 3",
   "language": "python",
   "name": "python3"
  },
  "language_info": {
   "codemirror_mode": {
    "name": "ipython",
    "version": 3
   },
   "file_extension": ".py",
   "mimetype": "text/x-python",
   "name": "python",
   "nbconvert_exporter": "python",
   "pygments_lexer": "ipython3",
   "version": "3.7.6"
  },
  "papermill": {
   "duration": 41.466649,
   "end_time": "2020-12-12T00:34:58.934310",
   "environment_variables": {},
   "exception": null,
   "input_path": "__notebook__.ipynb",
   "output_path": "__notebook__.ipynb",
   "parameters": {},
   "start_time": "2020-12-12T00:34:17.467661",
   "version": "2.1.0"
  }
 },
 "nbformat": 4,
 "nbformat_minor": 4
}
